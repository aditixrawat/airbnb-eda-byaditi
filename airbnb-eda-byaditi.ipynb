{
  "nbformat": 4,
  "nbformat_minor": 0,
  "metadata": {
    "colab": {
      "private_outputs": true,
      "provenance": []
    },
    "kernelspec": {
      "name": "python3",
      "display_name": "Python 3"
    },
    "language_info": {
      "name": "python"
    }
  },
  "cells": [
    {
      "cell_type": "markdown",
      "source": [
        "# **Project Name**  -   Airbnb Dataset – Exploratory Data Analysis (EDA) 📊\n",
        "\n"
      ],
      "metadata": {
        "id": "vncDsAP0Gaoa"
      }
    },
    {
      "cell_type": "markdown",
      "source": [
        "##### **Project Type**    - EDA\n",
        "##### **Contribution**    - Individual\n"
      ],
      "metadata": {
        "id": "beRrZCGUAJYm"
      }
    },
    {
      "cell_type": "markdown",
      "source": [
        "# **Project Summary -**"
      ],
      "metadata": {
        "id": "FJNUwmbgGyua"
      }
    },
    {
      "cell_type": "markdown",
      "source": [
        "## 📌 Project Summary: Airbnb NYC 2019 Exploratory Data Analysis (EDA)\n",
        "\n",
        "### 🎯 Objective:\n",
        "The primary goal of this project is to analyze Airbnb listing data from New York City (2019) to derive meaningful business insights that can improve listing strategies, customer satisfaction, and platform performance. This EDA is designed to support hosts, the Airbnb platform, and potential stakeholders in making data-informed decisions.\n",
        "\n",
        "---\n",
        "\n",
        "### 📂 Dataset Overview:\n",
        "- **Source**: Airbnb NYC 2019 Open Data  \n",
        "- **Size**: 48,895 listings  \n",
        "- **Key Variables**: `price`, `room_type`, `neighbourhood_group`, `availability_365`, `minimum_nights`, `number_of_reviews`, `reviews_per_month`\n",
        "\n",
        "---\n",
        "\n",
        "### 🧪 Methodology:\n",
        "We followed the **UBM structure**:\n",
        "- **U**: Univariate Analysis – Exploring single-variable distributions  \n",
        "- **B**: Bivariate Analysis – Understanding relationships between two variables  \n",
        "- **M**: Multivariate Analysis – Investigating complex patterns across three or more variables  \n",
        "\n",
        "Data was cleaned, filtered (e.g., price capped at $500), and visualized using Seaborn and Matplotlib. Each of the 15 charts includes:\n",
        "- The reason for chart selection  \n",
        "- Observed insights  \n",
        "- Business impact (positive & negative)\n",
        "\n",
        "---\n",
        "\n",
        "### 📊 Key Insights:\n",
        "\n",
        "#### 🔷 Univariate:\n",
        "- **Entire homes** dominate listings, followed by **private rooms**.\n",
        "- **Manhattan** and **Brooklyn** have the highest concentration of listings.\n",
        "- Most listings are priced under **$200** and are available year-round.\n",
        "- Minimum stay is typically **1–2 nights**, but outliers exist.\n",
        "\n",
        "#### 🔶 Bivariate:\n",
        "- **Private rooms** receive the most reviews per month – indicating strong guest engagement.\n",
        "- **Price** and **minimum nights** vary significantly across boroughs.\n",
        "- Availability is highest in **entire homes** but more balanced in **private rooms**.\n",
        "- Listings in outer boroughs are often lower-priced and more budget-friendly.\n",
        "\n",
        "#### 🔷 Multivariate:\n",
        "- Listings with high **availability**, **moderate pricing**, and good **review activity** perform best.\n",
        "- **Room type** and **neighbourhood group** together strongly influence price.\n",
        "- Correlation heatmap shows that **review metrics** are interrelated, but **price** is weakly correlated with most numeric variables — indicating the need for contextual pricing models.\n",
        "\n",
        "---\n",
        "\n",
        "### 💼 Business Recommendations:\n",
        "1. **Optimize pricing** in the $50–$150 range for higher booking volume.\n",
        "2. Focus marketing efforts on **private rooms in high-demand boroughs** like Manhattan and Brooklyn.\n",
        "3. Encourage **year-round availability** for better visibility and engagement.\n",
        "4. Use **review activity** as a quality signal to rank listings higher.\n",
        "5. Remove or audit inactive listings (0-day availability or extreme outliers).\n",
        "\n",
        "---\n",
        "\n",
        "### ✅ Final Outcome:\n",
        "The analysis provides actionable insights for Airbnb to improve user experience, booking rates, and revenue. The project also demonstrates the power of structured EDA in guiding data-backed strategies for online marketplaces."
      ],
      "metadata": {
        "id": "F6v_1wHtG2nS"
      }
    },
    {
      "cell_type": "markdown",
      "source": [
        "# **GitHub Link -**"
      ],
      "metadata": {
        "id": "w6K7xa23Elo4"
      }
    },
    {
      "cell_type": "markdown",
      "source": [
        "Provide your GitHub Link here."
      ],
      "metadata": {
        "id": "h1o69JH3Eqqn"
      }
    },
    {
      "cell_type": "markdown",
      "source": [
        "# **Problem Statement**\n"
      ],
      "metadata": {
        "id": "yQaldy8SH6Dl"
      }
    },
    {
      "cell_type": "markdown",
      "source": [
        "**With thousands of Airbnb listings across New York City, understanding patterns in pricing, availability, and location is essential for both hosts and guests. This project performs exploratory data analysis (EDA) on the Airbnb NYC 2019 dataset to identify key trends in neighborhood popularity, room types, host activity, and customer engagement. The objective is to draw meaningful insights that can assist in pricing strategies, listing optimization, and understanding urban rental dynamics.**"
      ],
      "metadata": {
        "id": "DpeJGUA3kjGy"
      }
    },
    {
      "cell_type": "markdown",
      "source": [
        "\n",
        "\n",
        "#### **Define Your Business Objective?**"
      ],
      "metadata": {
        "id": "PH-0ReGfmX4f"
      }
    },
    {
      "cell_type": "markdown",
      "source": [
        "The primary business objective of this project is to analyze Airbnb listings in New York City to gain actionable insights into the short-term rental market. By examining factors such as price, availability, location, room type, and host behavior, the aim is to:\n",
        "\n",
        "-Help hosts optimize their listings to improve occupancy and revenue.\n",
        "\n",
        "-Assist travelers in identifying value-for-money accommodations.\n",
        "\n",
        "-Support data-driven decisions related to pricing strategies and neighborhood targeting.\n",
        "\n",
        "-Provide urban stakeholders with a better understanding of rental patterns and density.\n",
        "\n",
        "This analysis can further serve as a foundation for developing dynamic pricing models, neighborhood recommendations, and regulatory strategies."
      ],
      "metadata": {
        "id": "PhDvGCAqmjP1"
      }
    },
    {
      "cell_type": "markdown",
      "source": [
        "# **General Guidelines** : -  "
      ],
      "metadata": {
        "id": "mDgbUHAGgjLW"
      }
    },
    {
      "cell_type": "markdown",
      "source": [
        "1.   Well-structured, formatted, and commented code is required.\n",
        "2.   Exception Handling, Production Grade Code & Deployment Ready Code will be a plus. Those students will be awarded some additional credits.\n",
        "     \n",
        "     The additional credits will have advantages over other students during Star Student selection.\n",
        "       \n",
        "             [ Note: - Deployment Ready Code is defined as, the whole .ipynb notebook should be executable in one go\n",
        "                       without a single error logged. ]\n",
        "\n",
        "3.   Each and every logic should have proper comments.\n",
        "4. You may add as many number of charts you want. Make Sure for each and every chart the following format should be answered.\n",
        "        \n",
        "\n",
        "```\n",
        "# Chart visualization code\n",
        "```\n",
        "            \n",
        "\n",
        "*   Why did you pick the specific chart?\n",
        "*   What is/are the insight(s) found from the chart?\n",
        "* Will the gained insights help creating a positive business impact?\n",
        "Are there any insights that lead to negative growth? Justify with specific reason.\n",
        "\n",
        "\n",
        "5. You have to create at least 20 logical & meaningful charts having important insights.\n",
        "\n",
        "[ Hints : - Do the Vizualization in  a structured way while following \"UBM\" Rule.\n",
        "\n",
        "U - Univariate Analysis,\n",
        "\n",
        "B - Bivariate Analysis (Numerical - Categorical, Numerical - Numerical, Categorical - Categorical)\n",
        "\n",
        "M - Multivariate Analysis\n",
        " ]\n",
        "\n",
        "\n",
        "\n",
        "\n",
        "\n"
      ],
      "metadata": {
        "id": "ZrxVaUj-hHfC"
      }
    },
    {
      "cell_type": "markdown",
      "source": [
        "# ***Let's Begin !***"
      ],
      "metadata": {
        "id": "O_i_v8NEhb9l"
      }
    },
    {
      "cell_type": "markdown",
      "source": [
        "## ***1. Know Your Data***"
      ],
      "metadata": {
        "id": "HhfV-JJviCcP"
      }
    },
    {
      "cell_type": "markdown",
      "source": [
        "### Import Libraries"
      ],
      "metadata": {
        "id": "Y3lxredqlCYt"
      }
    },
    {
      "cell_type": "code",
      "source": [
        "# Import Libraries\n",
        "import pandas as pd\n",
        "import numpy as np\n",
        "import matplotlib.pyplot as plt\n",
        "import seaborn as sns"
      ],
      "metadata": {
        "id": "M8Vqi-pPk-HR"
      },
      "execution_count": null,
      "outputs": []
    },
    {
      "cell_type": "markdown",
      "source": [
        "### Dataset Loading"
      ],
      "metadata": {
        "id": "3RnN4peoiCZX"
      }
    },
    {
      "cell_type": "code",
      "source": [
        "# Load Dataset\n",
        "df = pd.read_csv(\"/content/drive/MyDrive/airbnb/Copy of Copy of Airbnb NYC 2019.csv\")"
      ],
      "metadata": {
        "id": "4CkvbW_SlZ_R"
      },
      "execution_count": null,
      "outputs": []
    },
    {
      "cell_type": "code",
      "source": [
        "from google.colab import drive\n",
        "drive.mount('/content/drive')"
      ],
      "metadata": {
        "id": "BAHF-m-t_EPS"
      },
      "execution_count": null,
      "outputs": []
    },
    {
      "cell_type": "markdown",
      "source": [
        "### Dataset First View"
      ],
      "metadata": {
        "id": "x71ZqKXriCWQ"
      }
    },
    {
      "cell_type": "code",
      "source": [
        "# Dataset First Look\n",
        "df.head()\n"
      ],
      "metadata": {
        "id": "LWNFOSvLl09H"
      },
      "execution_count": null,
      "outputs": []
    },
    {
      "cell_type": "markdown",
      "source": [
        "### Dataset Rows & Columns count"
      ],
      "metadata": {
        "id": "7hBIi_osiCS2"
      }
    },
    {
      "cell_type": "code",
      "source": [
        "# Dataset Rows & Columns count\n",
        "print(\"Number of rows:\", df.shape[0])\n",
        "print(\"Number of columns:\", df.shape[1])\n"
      ],
      "metadata": {
        "id": "Kllu7SJgmLij"
      },
      "execution_count": null,
      "outputs": []
    },
    {
      "cell_type": "markdown",
      "source": [
        "### Dataset Information"
      ],
      "metadata": {
        "id": "JlHwYmJAmNHm"
      }
    },
    {
      "cell_type": "code",
      "source": [
        "# Dataset Info\n",
        "df.info()\n"
      ],
      "metadata": {
        "id": "e9hRXRi6meOf"
      },
      "execution_count": null,
      "outputs": []
    },
    {
      "cell_type": "markdown",
      "source": [
        "#### Duplicate Values"
      ],
      "metadata": {
        "id": "35m5QtbWiB9F"
      }
    },
    {
      "cell_type": "code",
      "source": [
        "# Dataset Duplicate Value Count\n",
        "duplicate_count = df.duplicated().sum()\n",
        "print(\"Number of duplicate rows:\", duplicate_count)\n",
        "\n",
        "# View duplicate rows\n",
        "df[df.duplicated()]\n"
      ],
      "metadata": {
        "id": "1sLdpKYkmox0"
      },
      "execution_count": null,
      "outputs": []
    },
    {
      "cell_type": "markdown",
      "source": [
        "#### Missing Values/Null Values"
      ],
      "metadata": {
        "id": "PoPl-ycgm1ru"
      }
    },
    {
      "cell_type": "code",
      "source": [
        "# Missing Values/Null Values Count\n",
        "df.isnull().sum()\n",
        "missing = df.isnull().sum()\n",
        "missing_percent = (missing / len(df)) * 100\n",
        "\n",
        "missing_df = pd.DataFrame({\n",
        "    'Missing Values': missing,\n",
        "    'Percentage (%)': missing_percent\n",
        "})\n",
        "\n",
        "# Show only columns with missing values\n",
        "missing_df = missing_df[missing_df['Missing Values'] > 0]\n",
        "missing_df.sort_values(by='Percentage (%)', ascending=False)"
      ],
      "metadata": {
        "id": "GgHWkxvamxVg"
      },
      "execution_count": null,
      "outputs": []
    },
    {
      "cell_type": "code",
      "source": [
        "# Visualizing the missing values\n",
        "import seaborn as sns\n",
        "import matplotlib.pyplot as plt\n",
        "\n",
        "plt.figure(figsize=(12,6))\n",
        "sns.heatmap(df.isnull(), cbar=False, cmap=\"YlGnBu\")\n",
        "plt.title(\"Missing Values Heatmap\")\n"
      ],
      "metadata": {
        "id": "3q5wnI3om9sJ"
      },
      "execution_count": null,
      "outputs": []
    },
    {
      "cell_type": "markdown",
      "source": [
        "\n",
        "\n",
        "\n",
        "### What did you know about your dataset?"
      ],
      "metadata": {
        "id": "H0kj-8xxnORC"
      }
    },
    {
      "cell_type": "markdown",
      "source": [
        "- The dataset contains **48,895 rows** and **16 columns**, representing Airbnb listings in **New York City (2019)**.\n",
        "- It includes information about:\n",
        "  - 📍 **Location**: `neighbourhood_group`, `neighbourhood`, `latitude`, `longitude`\n",
        "  - 🏠 **Listing details**: `room_type`, `price`, `minimum_nights`\n",
        "  - 👤 **Host details**: `host_id`, `host_name`, `calculated_host_listings_count`\n",
        "  - 💬 **Customer activity**: `number_of_reviews`, `last_review`, `reviews_per_month`\n",
        "  - 📅 **Availability**: `availability_365`\n",
        "\n",
        "### 🔍 Initial Observations:\n",
        "- The five **neighbourhood groups** are:\n",
        "  `'Manhattan'`, `'Brooklyn'`, `'Queens'`, `'Bronx'`, and `'Staten Island'`\n",
        "- There are **missing values** in:\n",
        "  - `name`, `host_name`, `last_review`, and `reviews_per_month`\n",
        "- Some listings have:\n",
        "  - Extremely **high prices** (possible outliers)\n",
        "  - Very **high minimum nights** (not practical for short-term stays)\n",
        "- Most listings are **either entire homes or private rooms**.\n",
        "- Listings are concentrated in **Manhattan and Brooklyn**.\n"
      ],
      "metadata": {
        "id": "gfoNAAC-nUe_"
      }
    },
    {
      "cell_type": "markdown",
      "source": [
        "## ***2. Understanding Your Variables***"
      ],
      "metadata": {
        "id": "nA9Y7ga8ng1Z"
      }
    },
    {
      "cell_type": "code",
      "source": [
        "# Dataset Columns\n",
        "print(df.columns.tolist())"
      ],
      "metadata": {
        "id": "j7xfkqrt5Ag5"
      },
      "execution_count": null,
      "outputs": []
    },
    {
      "cell_type": "code",
      "source": [
        "# Dataset Describe\n",
        "df.describe()"
      ],
      "metadata": {
        "id": "DnOaZdaE5Q5t"
      },
      "execution_count": null,
      "outputs": []
    },
    {
      "cell_type": "markdown",
      "source": [
        "### Variables Description"
      ],
      "metadata": {
        "id": "PBTbrJXOngz2"
      }
    },
    {
      "cell_type": "markdown",
      "source": [
        "## ✅ Understanding Your Variables\n",
        "\n",
        "Below is a description of all the columns in the Airbnb NYC 2019 dataset:\n",
        "\n",
        "| Column                          | Description                                                                 |\n",
        "|---------------------------------|-----------------------------------------------------------------------------|\n",
        "| `id`                            | Unique identifier for each listing                                          |\n",
        "| `name`                          | Name/title of the listing                                                  |\n",
        "| `host_id`                       | Unique identifier for the host                                             |\n",
        "| `host_name`                     | Name of the host                                                           |\n",
        "| `neighbourhood_group`          | Borough/region in NYC (e.g., Manhattan, Brooklyn, Queens)                  |\n",
        "| `neighbourhood`                | Specific neighborhood where the listing is located                         |\n",
        "| `latitude`                     | Latitude coordinate of the listing                                         |\n",
        "| `longitude`                    | Longitude coordinate of the listing                                        |\n",
        "| `room_type`                    | Type of accommodation (Entire home/apt, Private room, Shared room)         |\n",
        "| `price`                        | Price per night in USD                                                     |\n",
        "| `minimum_nights`               | Minimum number of nights required for booking                              |\n",
        "| `number_of_reviews`           | Total number of reviews received                                           |\n",
        "| `last_review`                 | Date of the most recent review                                             |\n",
        "| `reviews_per_month`           | Average number of reviews received per month                               |\n",
        "| `calculated_host_listings_count` | Number of listings managed by the host                                  |\n",
        "| `availability_365`            | Number of days the listing is available in a year                          |\n",
        "\n"
      ],
      "metadata": {
        "id": "aJV4KIxSnxay"
      }
    },
    {
      "cell_type": "markdown",
      "source": [
        "### Check Unique Values for each variable."
      ],
      "metadata": {
        "id": "u3PMJOP6ngxN"
      }
    },
    {
      "cell_type": "code",
      "source": [
        "# Check Unique Values for each variable.\n",
        "for column in df.columns:\n",
        "    unique_count = df[column].nunique()\n",
        "    print(f\"{column}: {unique_count} unique values\")"
      ],
      "metadata": {
        "id": "zms12Yq5n-jE"
      },
      "execution_count": null,
      "outputs": []
    },
    {
      "cell_type": "markdown",
      "source": [
        "## 3. ***Data Wrangling***"
      ],
      "metadata": {
        "id": "dauF4eBmngu3"
      }
    },
    {
      "cell_type": "markdown",
      "source": [
        "## Data Wrangling Code"
      ],
      "metadata": {
        "id": "bKJF3rekwFvQ"
      }
    },
    {
      "cell_type": "code",
      "source": [
        "# Data Wrangling\n",
        "\n",
        "import pandas as pd\n",
        "\n",
        "# Reload data if not already loaded\n",
        "df = pd.read_csv(\"/content/drive/MyDrive/airbnb/Copy of Copy of Airbnb NYC 2019.csv\")\n",
        "\n",
        "# 1. Handle Missing Values\n",
        "# Check nulls\n",
        "print(\"Missing values before cleaning:\")\n",
        "print(df.isnull().sum())\n",
        "\n",
        "# Fill missing reviews_per_month with 0 (assume no reviews)\n",
        "df['reviews_per_month'].fillna(0, inplace=True)\n",
        "\n",
        "# Drop rows with missing 'name', 'host_name', 'last_review' (optional: they’re few)\n",
        "df.dropna(subset=['name', 'host_name', 'last_review'], inplace=True)\n",
        "\n",
        "\n",
        "# 2. Convert Data Types\n",
        "# Convert 'last_review' to datetime\n",
        "df['last_review'] = pd.to_datetime(df['last_review'])\n",
        "\n",
        "# 3. Remove Invalid or Outlier Data\n",
        "\n",
        "# Remove listings with non-positive prices\n",
        "df = df[df['price'] > 0]\n",
        "\n",
        "# Remove extreme outliers in price (e.g., > $1000)\n",
        "df = df[df['price'] <= 1000]\n",
        "\n",
        "# Remove listings with unrealistic minimum_nights (e.g., > 365)\n",
        "df = df[df['minimum_nights'] <= 365]\n",
        "\n",
        "# Reset index after cleaning\n",
        "df.reset_index(drop=True, inplace=True)\n",
        "\n",
        "# Final Check\n",
        "print(\"\\nMissing values after cleaning:\")\n",
        "print(df.isnull().sum())\n",
        "\n",
        "print(\"\\nCleaned dataset shape:\", df.shape)\n"
      ],
      "metadata": {
        "id": "wk-9a2fpoLcV"
      },
      "execution_count": null,
      "outputs": []
    },
    {
      "cell_type": "markdown",
      "source": [
        "\n",
        "\n",
        "### What all manipulations have you done and insights you found?"
      ],
      "metadata": {
        "id": "MSa1f5Uengrz"
      }
    },
    {
      "cell_type": "markdown",
      "source": [
        "### ✅ Data Wrangling Summary\n",
        "\n",
        "Below are the data cleaning and preprocessing steps (manipulations) applied to make the dataset analysis-ready:\n",
        "\n",
        "1. **Handled Missing Values**\n",
        "   - Filled missing values in `reviews_per_month` with 0 (assumed no reviews).\n",
        "   - Dropped rows where critical fields like `name`, `host_name`, and `last_review` were missing.\n",
        "\n",
        "2. **Converted Data Types**\n",
        "   - Converted `last_review` column from object (string) to proper datetime format for time-based analysis.\n",
        "\n",
        "3. **Filtered Outliers**\n",
        "   - Removed listings with non-positive or extremely high prices (above $1000), which skew analysis.\n",
        "   - Removed listings with `minimum_nights > 365` as they're unrealistic for short-term rentals.\n",
        "\n",
        "4. **Reset Index**\n",
        "   - Reset the DataFrame index after row deletions to maintain clean structure.\n",
        "\n",
        "---\n",
        "\n",
        "### 💡 Initial Insights Found:\n",
        "\n",
        "- A small number of listings had missing or unusable data (less than 1%), so dropping them preserved most of the dataset.\n",
        "- Extreme outliers in `price` and `minimum_nights` were removed to avoid misleading visualizations and statistics.\n",
        "- Most hosts list only 1 property, but some commercial hosts list 50+ properties, which will be explored further.\n",
        "- The dataset is now clean, with correct data types and no missing or corrupt entries — ready for UBM (Univariate, Bivariate, Multivariate) analysis.\n",
        "\n"
      ],
      "metadata": {
        "id": "LbyXE7I1olp8"
      }
    },
    {
      "cell_type": "markdown",
      "source": [
        "## ***4. Data Vizualization, Storytelling & Experimenting with charts : Understand the relationships between variables***"
      ],
      "metadata": {
        "id": "GF8Ens_Soomf"
      }
    },
    {
      "cell_type": "markdown",
      "source": [
        "#### Chart - 1"
      ],
      "metadata": {
        "id": "0wOQAZs5pc--"
      }
    },
    {
      "cell_type": "code",
      "source": [
        "# Chart 1: Price Distribution\n",
        "\n",
        "import matplotlib.pyplot as plt\n",
        "import seaborn as sns\n",
        "\n",
        "# Set plot style\n",
        "plt.figure(figsize=(10, 5))\n",
        "sns.histplot(df['price'], bins=100, kde=True, color='skyblue')\n",
        "plt.xlim(0, 500)  # Focused on usable price range\n",
        "plt.title(\"Distribution of Airbnb Prices in NYC (Capped at $500)\")\n",
        "plt.xlabel(\"Price (USD per night)\")\n",
        "plt.ylabel(\"Number of Listings\")\n",
        "plt.grid(True)\n",
        "plt.show()\n"
      ],
      "metadata": {
        "id": "7v_ESjsspbW7"
      },
      "execution_count": null,
      "outputs": []
    },
    {
      "cell_type": "markdown",
      "source": [
        "##### 1. Why did you pick the specific chart?"
      ],
      "metadata": {
        "id": "K5QZ13OEpz2H"
      }
    },
    {
      "cell_type": "markdown",
      "source": [
        "A histogram is ideal for understanding the distribution of numerical variables. Since price is central to both user decisions and host strategies, it’s critical to know how prices are spread across listings.\n",
        "\n"
      ],
      "metadata": {
        "id": "XESiWehPqBRc"
      }
    },
    {
      "cell_type": "markdown",
      "source": [
        "##### 2. What is/are the insight(s) found from the chart?"
      ],
      "metadata": {
        "id": "lQ7QKXXCp7Bj"
      }
    },
    {
      "cell_type": "markdown",
      "source": [
        "#### 🔍 Insights from the chart:\n",
        "- Most Airbnb listings in NYC are priced between $50 and $150 per night.\n",
        "- The distribution is **right-skewed**, indicating that while most listings are affordable, a few are priced exceptionally high.\n",
        "- Prices above $500 are rare but still present even after outlier removal.\n"
      ],
      "metadata": {
        "id": "C_j1G7yiqdRP"
      }
    },
    {
      "cell_type": "markdown",
      "source": [
        "##### 3. Will the gained insights help creating a positive business impact?\n",
        "Are there any insights that lead to negative growth? Justify with specific reason."
      ],
      "metadata": {
        "id": "448CDAPjqfQr"
      }
    },
    {
      "cell_type": "markdown",
      "source": [
        "#### 💼 Business Impact:\n",
        "**Positive Impact**:\n",
        "- Hosts can use this data to **align their pricing strategy** with market norms to stay competitive.\n",
        "-Travelers can use this range to **filter and budget** their stay better.\n",
        "\n",
        "**Negative Impact**:\n",
        " - Outlier listings (too expensive) might lead to **lower occupancy** unless clearly justified by location or amenities."
      ],
      "metadata": {
        "id": "3cspy4FjqxJW"
      }
    },
    {
      "cell_type": "markdown",
      "source": [
        "#### Chart - 2"
      ],
      "metadata": {
        "id": "KSlN3yHqYklG"
      }
    },
    {
      "cell_type": "code",
      "source": [
        "# Chart - 2 visualization\n",
        "# Chart 2: Room Type Distribution\n",
        "\n",
        "import matplotlib.pyplot as plt\n",
        "import seaborn as sns\n",
        "\n",
        "# Set figure size\n",
        "plt.figure(figsize=(8, 5))\n",
        "sns.countplot(data=df, x='room_type', palette='pastel')\n",
        "plt.title(\"Distribution of Room Types in NYC Airbnb Listings\")\n",
        "plt.xlabel(\"Room Type\")\n",
        "plt.ylabel(\"Number of Listings\")\n",
        "plt.grid(True, axis='y')\n",
        "plt.show()\n"
      ],
      "metadata": {
        "id": "R4YgtaqtYklH"
      },
      "execution_count": null,
      "outputs": []
    },
    {
      "cell_type": "markdown",
      "source": [
        "##### 1. Why did you pick the specific chart?"
      ],
      "metadata": {
        "id": "t6dVpIINYklI"
      }
    },
    {
      "cell_type": "markdown",
      "source": [
        "\n",
        "A **countplot** is perfect for understanding how frequently each **category** appears — in this case, types of rooms offered on Airbnb. It's a vital metric for supply-side analysis in the marketplace.\n"
      ],
      "metadata": {
        "id": "5aaW0BYyYklI"
      }
    },
    {
      "cell_type": "markdown",
      "source": [
        "##### 2. What is/are the insight(s) found from the chart?"
      ],
      "metadata": {
        "id": "ijmpgYnKYklI"
      }
    },
    {
      "cell_type": "markdown",
      "source": [
        "#### 🔍 Insights from the chart:\n",
        "- **Entire home/apt** listings are the most common type on Airbnb NYC.\n",
        "- **Private rooms** also make up a significant portion of the market.\n",
        "- **Shared rooms** are rare, suggesting they’re less preferred or under-supplied.\n"
      ],
      "metadata": {
        "id": "PSx9atu2YklI"
      }
    },
    {
      "cell_type": "markdown",
      "source": [
        "##### 3. Will the gained insights help creating a positive business impact?\n",
        "Are there any insights that lead to negative growth? Justify with specific reason."
      ],
      "metadata": {
        "id": "-JiQyfWJYklI"
      }
    },
    {
      "cell_type": "markdown",
      "source": [
        "#### 💼 Business Impact:\n",
        "✅ **Positive**:\n",
        "- Hosts can see that **entire apartments dominate the platform**, meaning it’s a preferred choice for travelers — they may earn more by offering full-unit rentals.\n",
        "- Travelers who want budget stays might target **private rooms**, which are the second most available.\n",
        "\n",
        "⚠️ **Negative Impact**:\n",
        "- Shared rooms may not be attractive in NYC, possibly due to lack of privacy or local expectations — hosts offering them may see **lower demand**."
      ],
      "metadata": {
        "id": "BcBbebzrYklV"
      }
    },
    {
      "cell_type": "markdown",
      "source": [
        "#### Chart - 3"
      ],
      "metadata": {
        "id": "EM7whBJCYoAo"
      }
    },
    {
      "cell_type": "code",
      "source": [
        "# Chart - 3 visualization code\n",
        "# Chart 3: Availability of Listings Throughout the Year\n",
        "\n",
        "plt.figure(figsize=(10, 5))\n",
        "sns.histplot(df['availability_365'], bins=40, kde=False, color='lightgreen')\n",
        "plt.title(\"Distribution of Listings by Availability (0–365 Days)\")\n",
        "plt.xlabel(\"Number of Available Days\")\n",
        "plt.ylabel(\"Number of Listings\")\n",
        "plt.grid(True)\n",
        "plt.show()\n"
      ],
      "metadata": {
        "id": "t6GMdE67YoAp"
      },
      "execution_count": null,
      "outputs": []
    },
    {
      "cell_type": "markdown",
      "source": [
        "##### 1. Why did you pick the specific chart?"
      ],
      "metadata": {
        "id": "fge-S5ZAYoAp"
      }
    },
    {
      "cell_type": "markdown",
      "source": [
        "A **histogram** is ideal for showing how listings are distributed based on how many days they’re available throughout the year. This gives insight into **supply patterns** — whether listings are short-term, seasonal, or available year-round.\n"
      ],
      "metadata": {
        "id": "5dBItgRVYoAp"
      }
    },
    {
      "cell_type": "markdown",
      "source": [
        "##### 2. What is/are the insight(s) found from the chart?"
      ],
      "metadata": {
        "id": "85gYPyotYoAp"
      }
    },
    {
      "cell_type": "markdown",
      "source": [
        "#### 🔍 Insights from the chart:\n",
        "- A large number of listings are available **either 0 days or the full 365 days**.\n",
        "- This shows a **bimodal pattern**: many hosts either block their listings completely (possibly inactive or seasonal) or keep them available all year.\n",
        "- Few listings offer **partial-year availability**, which may indicate seasonal or personal-use listings.\n"
      ],
      "metadata": {
        "id": "4jstXR6OYoAp"
      }
    },
    {
      "cell_type": "markdown",
      "source": [
        "##### 3. Will the gained insights help creating a positive business impact?\n",
        "Are there any insights that lead to negative growth? Justify with specific reason."
      ],
      "metadata": {
        "id": "RoGjAbkUYoAp"
      }
    },
    {
      "cell_type": "markdown",
      "source": [
        "#### 💼 Business Impact:\n",
        "✅ **Positive**:\n",
        "- Year-round listings are ideal for Airbnb as they ensure **continuous revenue** and better **platform reliability**.\n",
        "- Hosts keeping their listings live all year can gain better visibility and reviews.\n",
        "\n",
        "⚠️ **Negative Impact**:\n",
        "- Listings with **0-day availability** could be stale or **inactive**, which affects search quality and user experience.\n",
        "- Airbnb may consider deactivating or reviewing listings that are perennially unavailable."
      ],
      "metadata": {
        "id": "zfJ8IqMcYoAp"
      }
    },
    {
      "cell_type": "markdown",
      "source": [
        "#### Chart - 4"
      ],
      "metadata": {
        "id": "4Of9eVA-YrdM"
      }
    },
    {
      "cell_type": "code",
      "source": [
        "# Chart - 4 visualization code\n",
        "# Chart 4: Minimum Nights Requirement Distribution\n",
        "\n",
        "plt.figure(figsize=(10, 5))\n",
        "sns.histplot(df['minimum_nights'], bins=50, color='salmon')\n",
        "plt.xlim(0, 30)  # Focus on realistic booking windows\n",
        "plt.title(\"Distribution of Minimum Nights Required (Capped at 30 Days)\")\n",
        "plt.xlabel(\"Minimum Nights\")\n",
        "plt.ylabel(\"Number of Listings\")\n",
        "plt.grid(True)\n",
        "plt.show()\n"
      ],
      "metadata": {
        "id": "irlUoxc8YrdO"
      },
      "execution_count": null,
      "outputs": []
    },
    {
      "cell_type": "markdown",
      "source": [
        "##### 1. Why did you pick the specific chart?"
      ],
      "metadata": {
        "id": "iky9q4vBYrdO"
      }
    },
    {
      "cell_type": "markdown",
      "source": [
        "A **histogram** helps visualize how many nights hosts typically require guests to stay. It’s important to know if listings are suitable for **short-term stays**, which is the primary use case on Airbnb.\n"
      ],
      "metadata": {
        "id": "aJRCwT6DYrdO"
      }
    },
    {
      "cell_type": "markdown",
      "source": [
        "##### 2. What is/are the insight(s) found from the chart?"
      ],
      "metadata": {
        "id": "F6T5p64dYrdO"
      }
    },
    {
      "cell_type": "markdown",
      "source": [
        "#### 🔍 Insight(s) from the chart:\n",
        "- Majority of listings require **1 to 3 nights** minimum, making them ideal for short-term travelers.\n",
        "- A small portion of listings require longer stays — like **7, 14, or even 30 days** — possibly due to host preferences or local regulations.\n",
        "- Extreme values were already filtered (e.g., >365)."
      ],
      "metadata": {
        "id": "Xx8WAJvtYrdO"
      }
    },
    {
      "cell_type": "markdown",
      "source": [
        "##### 3. Will the gained insights help creating a positive business impact?\n",
        "Are there any insights that lead to negative growth? Justify with specific reason."
      ],
      "metadata": {
        "id": "y-Ehk30pYrdP"
      }
    },
    {
      "cell_type": "markdown",
      "source": [
        "#### 💼 Business Impact:\n",
        "✅ **Positive**:\n",
        "- The dominance of 1–3 night minimums suggests that NYC’s Airbnb market is well-aligned with **tourist needs**.\n",
        "- Hosts offering short stays can achieve **higher occupancy** through flexibility.\n",
        "\n",
        "⚠️ **Negative Impact**:\n",
        "- Listings with long minimum stays may experience **low booking frequency**, especially from tourists or weekend travelers.\n",
        "- Airbnb might recommend flexible stay durations for new hosts to improve their visibility and booking rate."
      ],
      "metadata": {
        "id": "jLNxxz7MYrdP"
      }
    },
    {
      "cell_type": "markdown",
      "source": [
        "#### Chart - 5"
      ],
      "metadata": {
        "id": "bamQiAODYuh1"
      }
    },
    {
      "cell_type": "code",
      "source": [
        "# Chart - 5 visualization code\n",
        "# Chart 5: Neighbourhood Group Distribution\n",
        "\n",
        "plt.figure(figsize=(8, 5))\n",
        "sns.countplot(data=df, x='neighbourhood_group', palette='Set2', order=df['neighbourhood_group'].value_counts().index)\n",
        "plt.title(\"Distribution of Listings Across NYC Boroughs\")\n",
        "plt.xlabel(\"Neighbourhood Group\")\n",
        "plt.ylabel(\"Number of Listings\")\n",
        "plt.grid(True, axis='y')\n",
        "plt.show()\n"
      ],
      "metadata": {
        "id": "TIJwrbroYuh3"
      },
      "execution_count": null,
      "outputs": []
    },
    {
      "cell_type": "markdown",
      "source": [
        "##### 1. Why did you pick the specific chart?"
      ],
      "metadata": {
        "id": "QHF8YVU7Yuh3"
      }
    },
    {
      "cell_type": "markdown",
      "source": [
        "A **countplot** is ideal for showing the frequency of each **neighbourhood_group** (borough). This helps identify which areas of NYC have the most Airbnb supply — essential for geographic strategy.\n"
      ],
      "metadata": {
        "id": "dcxuIMRPYuh3"
      }
    },
    {
      "cell_type": "markdown",
      "source": [
        "##### 2. What is/are the insight(s) found from the chart?"
      ],
      "metadata": {
        "id": "GwzvFGzlYuh3"
      }
    },
    {
      "cell_type": "markdown",
      "source": [
        "#### 🔍 Insight(s) from the chart:\n",
        "- **Manhattan** has the highest number of Airbnb listings, followed by **Brooklyn**.\n",
        "- **Staten Island** and **Bronx** have the fewest listings.\n",
        "- This shows a **centralized supply** in the most tourist-heavy zones."
      ],
      "metadata": {
        "id": "uyqkiB8YYuh3"
      }
    },
    {
      "cell_type": "markdown",
      "source": [
        "##### 3. Will the gained insights help creating a positive business impact?\n",
        "Are there any insights that lead to negative growth? Justify with specific reason."
      ],
      "metadata": {
        "id": "qYpmQ266Yuh3"
      }
    },
    {
      "cell_type": "markdown",
      "source": [
        "#### 💼 Business Impact:\n",
        "✅ **Positive**:\n",
        "- High listing density in Manhattan and Brooklyn confirms strong **tourist demand** and market potential.\n",
        "- Hosts in these boroughs may experience **higher visibility and competition**, requiring good pricing and review strategies.\n",
        "\n",
        "⚠️ **Negative Impact**:\n",
        "- Low listing counts in areas like Staten Island may indicate **low demand or strict regulation**, limiting growth opportunities there.\n"
      ],
      "metadata": {
        "id": "_WtzZ_hCYuh4"
      }
    },
    {
      "cell_type": "markdown",
      "source": [
        "#### Chart - 6"
      ],
      "metadata": {
        "id": "OH-pJp9IphqM"
      }
    },
    {
      "cell_type": "code",
      "source": [
        "# Chart - 6 visualization code\n",
        "# Chart 6: Price vs Room Type\n",
        "\n",
        "plt.figure(figsize=(8, 5))\n",
        "sns.boxplot(data=df, x='room_type', y='price')\n",
        "plt.ylim(0, 500)  # Focus on common price range\n",
        "plt.title(\"Price Comparison by Room Type (Capped at $500)\")\n",
        "plt.xlabel(\"Room Type\")\n",
        "plt.ylabel(\"Price (USD)\")\n",
        "plt.grid(True)\n",
        "plt.show()\n",
        "\n"
      ],
      "metadata": {
        "id": "kuRf4wtuphqN"
      },
      "execution_count": null,
      "outputs": []
    },
    {
      "cell_type": "markdown",
      "source": [
        "##### 1. Why did you pick the specific chart?"
      ],
      "metadata": {
        "id": "bbFf2-_FphqN"
      }
    },
    {
      "cell_type": "markdown",
      "source": [
        "A **boxplot** shows the **distribution, median, and outliers** for each room type’s price. It’s perfect for comparing pricing strategies across categories.\n"
      ],
      "metadata": {
        "id": "loh7H2nzphqN"
      }
    },
    {
      "cell_type": "markdown",
      "source": [
        "##### 2. What is/are the insight(s) found from the chart?"
      ],
      "metadata": {
        "id": "_ouA3fa0phqN"
      }
    },
    {
      "cell_type": "markdown",
      "source": [
        "#### 🔍 Insight(s) from the chart:\n",
        "- **Entire home/apt** listings have the **highest median price**, followed by **private rooms**.\n",
        "- **Shared rooms** are priced the lowest, as expected.\n",
        "- All room types have some **outliers**, but entire homes show the **widest price range**.\n"
      ],
      "metadata": {
        "id": "VECbqPI7phqN"
      }
    },
    {
      "cell_type": "markdown",
      "source": [
        "##### 3. Will the gained insights help creating a positive business impact?\n",
        "Are there any insights that lead to negative growth? Justify with specific reason."
      ],
      "metadata": {
        "id": "Seke61FWphqN"
      }
    },
    {
      "cell_type": "markdown",
      "source": [
        "#### 💼 Business Impact:\n",
        "✅ **Positive**:\n",
        "- Hosts can decide pricing by comparing room types in their area.\n",
        "- Guests can set expectations — e.g., paying more for full privacy.\n",
        "\n",
        "⚠️ **Negative Impact**:\n",
        "- Outlier prices in shared/private rooms could lead to **overpricing and low bookings** if not justified.\n",
        "- Entire home hosts may need to justify higher prices with better amenities, reviews, or locations."
      ],
      "metadata": {
        "id": "DW4_bGpfphqN"
      }
    },
    {
      "cell_type": "markdown",
      "source": [
        "#### Chart - 7"
      ],
      "metadata": {
        "id": "PIIx-8_IphqN"
      }
    },
    {
      "cell_type": "code",
      "source": [
        "# Chart - 7 visualization code\n",
        "# Chart 7: Price vs Neighbourhood Group\n",
        "\n",
        "plt.figure(figsize=(10, 5))\n",
        "sns.boxplot(data=df, x='neighbourhood_group', y='price')\n",
        "plt.ylim(0, 500)  # Focus on realistic price range\n",
        "plt.title(\"Price Distribution by Neighbourhood Group (Capped at $500)\")\n",
        "plt.xlabel(\"Neighbourhood Group\")\n",
        "plt.ylabel(\"Price (USD)\")\n",
        "plt.grid(True)\n",
        "plt.show()\n"
      ],
      "metadata": {
        "id": "lqAIGUfyphqO"
      },
      "execution_count": null,
      "outputs": []
    },
    {
      "cell_type": "markdown",
      "source": [
        "##### 1. Why did you pick the specific chart?"
      ],
      "metadata": {
        "id": "t27r6nlMphqO"
      }
    },
    {
      "cell_type": "markdown",
      "source": [
        "A **boxplot** is ideal to compare how price varies across boroughs. Since each `neighbourhood_group` represents a major part of NYC, this gives a high-level view of pricing by region.\n"
      ],
      "metadata": {
        "id": "iv6ro40sphqO"
      }
    },
    {
      "cell_type": "markdown",
      "source": [
        "##### 2. What is/are the insight(s) found from the chart?"
      ],
      "metadata": {
        "id": "r2jJGEOYphqO"
      }
    },
    {
      "cell_type": "markdown",
      "source": [
        "#### 🔍 Insight(s) from the chart:\n",
        "- **Manhattan** listings have the **highest median prices**, followed by **Brooklyn**.\n",
        "- **Queens**, **Bronx**, and **Staten Island** are priced significantly lower.\n",
        "- All groups contain **price outliers**, but Manhattan shows the **widest spread**.\n"
      ],
      "metadata": {
        "id": "Po6ZPi4hphqO"
      }
    },
    {
      "cell_type": "markdown",
      "source": [
        "##### 3. Will the gained insights help creating a positive business impact?\n",
        "Are there any insights that lead to negative growth? Justify with specific reason."
      ],
      "metadata": {
        "id": "b0JNsNcRphqO"
      }
    },
    {
      "cell_type": "markdown",
      "source": [
        "#### 💼 Business Impact:\n",
        "✅ **Positive**:\n",
        "- This helps hosts and investors determine which areas are **premium zones** and which are **budget-friendly**.\n",
        "- Travelers can use this insight to **balance location vs cost**.\n",
        "\n",
        "⚠️ **Negative Impact**:\n",
        "- Overpricing in low-demand boroughs like Staten Island could lead to **low occupancy**.\n",
        "- High variance in Manhattan may confuse guests if not paired with clear listing value (e.g., amenities, photos, reviews)."
      ],
      "metadata": {
        "id": "xvSq8iUTphqO"
      }
    },
    {
      "cell_type": "markdown",
      "source": [
        "#### Chart - 8"
      ],
      "metadata": {
        "id": "BZR9WyysphqO"
      }
    },
    {
      "cell_type": "code",
      "source": [
        "# Chart - 8 visualization code\n",
        "# Chart 8: Availability by Room Type\n",
        "\n",
        "plt.figure(figsize=(8, 5))\n",
        "sns.boxplot(data=df, x='room_type', y='availability_365')\n",
        "plt.title(\"Availability (Days/Year) by Room Type\")\n",
        "plt.xlabel(\"Room Type\")\n",
        "plt.ylabel(\"Availability (0–365 Days)\")\n",
        "plt.grid(True)\n",
        "plt.show()\n",
        "\n"
      ],
      "metadata": {
        "id": "TdPTWpAVphqO"
      },
      "execution_count": null,
      "outputs": []
    },
    {
      "cell_type": "markdown",
      "source": [
        "##### 1. Why did you pick the specific chart?"
      ],
      "metadata": {
        "id": "jj7wYXLtphqO"
      }
    },
    {
      "cell_type": "markdown",
      "source": [
        "A **boxplot** is perfect here to compare the **distribution of availability** across room types. It shows how many days listings are typically active, which is crucial for both supply planning and traveler expectation.\n"
      ],
      "metadata": {
        "id": "Ob8u6rCTphqO"
      }
    },
    {
      "cell_type": "markdown",
      "source": [
        "##### 2. What is/are the insight(s) found from the chart?"
      ],
      "metadata": {
        "id": "eZrbJ2SmphqO"
      }
    },
    {
      "cell_type": "markdown",
      "source": [
        "#### 🔍 Insight(s) from the chart:\n",
        "- **Entire home/apt** and **private rooms** have a wide availability spread — some are available full-time (365 days), while others are limited or seasonal.\n",
        "- **Shared rooms** tend to have lower and tighter availability ranges, possibly due to personal space constraints.\n",
        "- Median availability is fairly similar across room types but varies more in range.\n"
      ],
      "metadata": {
        "id": "mZtgC_hjphqO"
      }
    },
    {
      "cell_type": "markdown",
      "source": [
        "##### 3. Will the gained insights help creating a positive business impact?\n",
        "Are there any insights that lead to negative growth? Justify with specific reason."
      ],
      "metadata": {
        "id": "rFu4xreNphqO"
      }
    },
    {
      "cell_type": "markdown",
      "source": [
        "#### 💼 Business Impact:\n",
        "✅ **Positive**:\n",
        "- Hosts offering 365-day availability may see **higher visibility** and **more consistent bookings**.\n",
        "- Airbnb can prioritize these listings during high-demand seasons.\n",
        "\n",
        "⚠️ **Negative Impact**:\n",
        "- Lower availability in shared rooms and some private rooms may reflect **inconsistent hosting** or personal usage, affecting reliability.\n",
        "- Seasonal or inactive listings may degrade **user experience** when searching."
      ],
      "metadata": {
        "id": "ey_0qi68phqO"
      }
    },
    {
      "cell_type": "markdown",
      "source": [
        "#### Chart - 9"
      ],
      "metadata": {
        "id": "YJ55k-q6phqO"
      }
    },
    {
      "cell_type": "code",
      "source": [
        "# Chart - 9 visualization code\n",
        "# Chart 9: Number of Reviews by Room Type\n",
        "\n",
        "plt.figure(figsize=(8, 5))\n",
        "sns.boxplot(data=df, x='room_type', y='number_of_reviews')\n",
        "plt.ylim(0, 200)  # Focus on meaningful range for better visibility\n",
        "plt.title(\"Guest Engagement: Number of Reviews by Room Type\")\n",
        "plt.xlabel(\"Room Type\")\n",
        "plt.ylabel(\"Number of Reviews\")\n",
        "plt.grid(True)\n",
        "plt.show()\n"
      ],
      "metadata": {
        "id": "B2aS4O1ophqO"
      },
      "execution_count": null,
      "outputs": []
    },
    {
      "cell_type": "markdown",
      "source": [
        "##### 1. Why did you pick the specific chart?"
      ],
      "metadata": {
        "id": "gCFgpxoyphqP"
      }
    },
    {
      "cell_type": "markdown",
      "source": [
        "This **boxplot** helps compare how many reviews listings receive based on room type. Reviews serve as a strong proxy for **customer engagement** and trust.\n"
      ],
      "metadata": {
        "id": "TVxDimi2phqP"
      }
    },
    {
      "cell_type": "markdown",
      "source": [
        "##### 2. What is/are the insight(s) found from the chart?"
      ],
      "metadata": {
        "id": "OVtJsKN_phqQ"
      }
    },
    {
      "cell_type": "markdown",
      "source": [
        "#### 🔍 Insight(s) from the chart:\n",
        "- **Private rooms** tend to have the **highest median number of reviews**, suggesting higher booking volume or more accessible price points.\n",
        "- **Entire homes** also have steady reviews but show more variability.\n",
        "- **Shared rooms** have fewer reviews on average, with fewer outliers.\n"
      ],
      "metadata": {
        "id": "ngGi97qjphqQ"
      }
    },
    {
      "cell_type": "markdown",
      "source": [
        "##### 3. Will the gained insights help creating a positive business impact?\n",
        "Are there any insights that lead to negative growth? Justify with specific reason."
      ],
      "metadata": {
        "id": "lssrdh5qphqQ"
      }
    },
    {
      "cell_type": "markdown",
      "source": [
        "#### 💼 Business Impact:\n",
        "✅ **Positive**:\n",
        "- Private room listings appear to be **highly bookable and trusted**, possibly due to affordability.\n",
        "- Hosts can use this insight to decide which room type yields better **guest interaction and visibility**.\n",
        "\n",
        "⚠️ **Negative Impact**:\n",
        "- Fewer reviews in shared rooms may indicate **low demand** or lack of trust.\n",
        "- Entire homes with low reviews might be overpriced or suffer from poor visibility.\n",
        "\n"
      ],
      "metadata": {
        "id": "tBpY5ekJphqQ"
      }
    },
    {
      "cell_type": "markdown",
      "source": [
        "#### Chart - 10"
      ],
      "metadata": {
        "id": "U2RJ9gkRphqQ"
      }
    },
    {
      "cell_type": "code",
      "source": [
        "# Chart - 10 visualization code\n",
        "# Chart 10: Minimum Nights vs Neighbourhood Group\n",
        "\n",
        "plt.figure(figsize=(10, 5))\n",
        "sns.boxplot(data=df, x='neighbourhood_group', y='minimum_nights')\n",
        "plt.ylim(0, 30)  # Focused on realistic short-term rental values\n",
        "plt.title(\"Minimum Nights Requirement by Neighbourhood Group\")\n",
        "plt.xlabel(\"Neighbourhood Group\")\n",
        "plt.ylabel(\"Minimum Nights\")\n",
        "plt.grid(True)\n",
        "plt.show()\n"
      ],
      "metadata": {
        "id": "GM7a4YP4phqQ"
      },
      "execution_count": null,
      "outputs": []
    },
    {
      "cell_type": "markdown",
      "source": [
        "##### 1. Why did you pick the specific chart?"
      ],
      "metadata": {
        "id": "1M8mcRywphqQ"
      }
    },
    {
      "cell_type": "markdown",
      "source": [
        "A **boxplot** is ideal to show how different boroughs enforce or encourage different **minimum stay durations** — crucial for understanding rental behavior, policies, or regulations in specific areas.\n"
      ],
      "metadata": {
        "id": "8agQvks0phqQ"
      }
    },
    {
      "cell_type": "markdown",
      "source": [
        "##### 2. What is/are the insight(s) found from the chart?"
      ],
      "metadata": {
        "id": "tgIPom80phqQ"
      }
    },
    {
      "cell_type": "markdown",
      "source": [
        "#### 🔍 Insight(s) from the chart:\n",
        "- Most boroughs have a **median minimum night stay of 1–2 nights** — suitable for short-term bookings.\n",
        "- **Staten Island** and **Bronx** show occasional high values, possibly due to personal-use or longer rentals.\n",
        "- **Outliers** are present in all groups, but more prominent in Manhattan — likely due to policy workarounds or luxury listings."
      ],
      "metadata": {
        "id": "Qp13pnNzphqQ"
      }
    },
    {
      "cell_type": "markdown",
      "source": [
        "##### 3. Will the gained insights help creating a positive business impact?\n",
        "Are there any insights that lead to negative growth? Justify with specific reason."
      ],
      "metadata": {
        "id": "JMzcOPDDphqR"
      }
    },
    {
      "cell_type": "markdown",
      "source": [
        "\n",
        "#### 💼 Business Impact:\n",
        "✅ **Positive**:\n",
        "- Flexible short stays across boroughs suggest high **tourist-friendliness**.\n",
        "- Short minimums improve **booking frequency** and **platform stickiness**.\n",
        "\n",
        "⚠️ **Negative Impact**:\n",
        "- Listings with long minimum stays may be **ignored by travelers** looking for short-term stays.\n",
        "- Airbnb might monitor extreme outliers in areas like Manhattan to ensure policy compliance.\n"
      ],
      "metadata": {
        "id": "R4Ka1PC2phqR"
      }
    },
    {
      "cell_type": "markdown",
      "source": [
        "#### Chart - 11"
      ],
      "metadata": {
        "id": "x-EpHcCOp1ci"
      }
    },
    {
      "cell_type": "code",
      "source": [
        "# Chart - 11 visualization code\n",
        "# Chart 11: Price by Room Type and Neighbourhood Group\n",
        "\n",
        "plt.figure(figsize=(12, 6))\n",
        "sns.boxplot(data=df, x='neighbourhood_group', y='price', hue='room_type')\n",
        "plt.ylim(0, 500)  # Focused on realistic price range\n",
        "plt.title(\"Price Distribution by Room Type Across NYC Boroughs\")\n",
        "plt.xlabel(\"Neighbourhood Group\")\n",
        "plt.ylabel(\"Price (USD)\")\n",
        "plt.legend(title='Room Type')\n",
        "plt.grid(True)\n",
        "plt.show()\n"
      ],
      "metadata": {
        "id": "mAQTIvtqp1cj"
      },
      "execution_count": null,
      "outputs": []
    },
    {
      "cell_type": "markdown",
      "source": [
        "##### 1. Why did you pick the specific chart?"
      ],
      "metadata": {
        "id": "X_VqEhTip1ck"
      }
    },
    {
      "cell_type": "markdown",
      "source": [
        "A **grouped boxplot** is perfect to compare **price variations across both boroughs and room types**. It helps uncover interactions between geography and accommodation type.\n"
      ],
      "metadata": {
        "id": "-vsMzt_np1ck"
      }
    },
    {
      "cell_type": "markdown",
      "source": [
        "##### 2. What is/are the insight(s) found from the chart?"
      ],
      "metadata": {
        "id": "8zGJKyg5p1ck"
      }
    },
    {
      "cell_type": "markdown",
      "source": [
        "#### 🔍 Insight(s) from the chart:\n",
        "- In **all boroughs**, **entire homes/apts** are priced the highest, followed by **private rooms**, and then **shared rooms**.\n",
        "- **Manhattan** has the highest median prices for all room types, especially entire apartments.\n",
        "- **Bronx** and **Staten Island** offer significantly lower pricing across all types.\n",
        "\n"
      ],
      "metadata": {
        "id": "ZYdMsrqVp1ck"
      }
    },
    {
      "cell_type": "markdown",
      "source": [
        "##### 3. Will the gained insights help creating a positive business impact?\n",
        "Are there any insights that lead to negative growth? Justify with specific reason."
      ],
      "metadata": {
        "id": "PVzmfK_Ep1ck"
      }
    },
    {
      "cell_type": "markdown",
      "source": [
        "#### 💼 Business Impact:\n",
        "✅ **Positive**:\n",
        "- Hosts can optimize pricing by seeing **what others charge for similar listings in similar boroughs**.\n",
        "- Guests can better **compare value for money** based on location and room type.\n",
        "\n",
        "⚠️ **Negative Impact**:\n",
        "- Listings priced too high in outer boroughs (e.g., shared room in Queens above $200) may face **low demand**.\n",
        "- Airbnb can use this to guide **pricing suggestions** and surface more relevant listings to users.\n"
      ],
      "metadata": {
        "id": "druuKYZpp1ck"
      }
    },
    {
      "cell_type": "markdown",
      "source": [
        "#### Chart - 12"
      ],
      "metadata": {
        "id": "n3dbpmDWp1ck"
      }
    },
    {
      "cell_type": "code",
      "source": [
        "# Chart - 12 visualization code\n",
        "# Chart 12: Average Reviews per Month\n",
        "\n",
        "plt.figure(figsize=(12, 6))\n",
        "sns.barplot(\n",
        "    data=df,\n",
        "    x='neighbourhood_group',\n",
        "    y='reviews_per_month',\n",
        "    hue='room_type',\n",
        "    estimator='mean',\n",
        "    errorbar=None  # Replaces deprecated ci=None\n",
        ")\n",
        "plt.title(\"Average Reviews per Month by Room Type & Neighbourhood Group\")\n",
        "plt.xlabel(\"Neighbourhood Group\")\n",
        "plt.ylabel(\"Avg. Reviews per Month\")\n",
        "plt.legend(title=\"Room Type\")\n",
        "plt.grid(True, axis='y')\n",
        "plt.show()\n",
        "\n"
      ],
      "metadata": {
        "id": "bwevp1tKp1ck"
      },
      "execution_count": null,
      "outputs": []
    },
    {
      "cell_type": "markdown",
      "source": [
        "##### 1. Why did you pick the specific chart?"
      ],
      "metadata": {
        "id": "ylSl6qgtp1ck"
      }
    },
    {
      "cell_type": "markdown",
      "source": [
        "A **grouped bar plot** is perfect for comparing average review activity across boroughs and room types. Reviews per month indicate **guest engagement** and can be a proxy for demand or visibility.\n"
      ],
      "metadata": {
        "id": "m2xqNkiQp1ck"
      }
    },
    {
      "cell_type": "markdown",
      "source": [
        "##### 2. What is/are the insight(s) found from the chart?"
      ],
      "metadata": {
        "id": "ZWILFDl5p1ck"
      }
    },
    {
      "cell_type": "markdown",
      "source": [
        "#### 🔍 Insight(s) from the chart:\n",
        "- **Private rooms in Manhattan and Brooklyn** receive the **highest average reviews per month**, suggesting strong demand and affordability.\n",
        "- **Entire homes** get fewer reviews on average — possibly due to higher cost or longer stays.\n",
        "- **Shared rooms** have the lowest review volume across all boroughs."
      ],
      "metadata": {
        "id": "x-lUsV2mp1ck"
      }
    },
    {
      "cell_type": "markdown",
      "source": [
        "##### 3. Will the gained insights help creating a positive business impact?\n",
        "Are there any insights that lead to negative growth? Justify with specific reason."
      ],
      "metadata": {
        "id": "M7G43BXep1ck"
      }
    },
    {
      "cell_type": "markdown",
      "source": [
        "#### 💼 Business Impact:\n",
        "✅ **Positive**:\n",
        "- Hosts can see that offering **private rooms in tourist-heavy boroughs** may bring consistent engagement.\n",
        "- Airbnb can surface these listings higher in search or recommend them for budget travelers.\n",
        "\n",
        "⚠️ **Negative Impact**:\n",
        "- Hosts with entire homes in outer boroughs getting low reviews may need to **rethink pricing or marketing**.\n",
        "- Shared rooms may be **less viable long-term**, given the low interaction.\n"
      ],
      "metadata": {
        "id": "5wwDJXsLp1cl"
      }
    },
    {
      "cell_type": "markdown",
      "source": [
        "#### Chart - 13"
      ],
      "metadata": {
        "id": "Ag9LCva-p1cl"
      }
    },
    {
      "cell_type": "code",
      "source": [
        "# Chart - 13 visualization code\n",
        "# Chart 13: Availability vs Price by Room Type (Bubble Style)\n",
        "\n",
        "plt.figure(figsize=(12, 6))\n",
        "sns.scatterplot(\n",
        "    data=df[df['price'] <= 500],  # Filter to focus on meaningful price range\n",
        "    x='availability_365',\n",
        "    y='price',\n",
        "    hue='room_type',\n",
        "    size='number_of_reviews',\n",
        "    sizes=(20, 200),\n",
        "    alpha=0.6\n",
        ")\n",
        "plt.title(\"Availability vs Price Colored by Room Type\")\n",
        "plt.xlabel(\"Availability (days/year)\")\n",
        "plt.ylabel(\"Price (USD)\")\n",
        "plt.legend(title=\"Room Type\", bbox_to_anchor=(1.05, 1), loc='upper left')\n",
        "plt.grid(True)\n",
        "plt.tight_layout()\n",
        "plt.show()\n"
      ],
      "metadata": {
        "id": "EUfxeq9-p1cl"
      },
      "execution_count": null,
      "outputs": []
    },
    {
      "cell_type": "markdown",
      "source": [
        "##### 1. Why did you pick the specific chart?"
      ],
      "metadata": {
        "id": "E6MkPsBcp1cl"
      }
    },
    {
      "cell_type": "markdown",
      "source": [
        "A **scatter plot with color and size encoding** reveals how listings are priced relative to availability, with room types adding segmentation. It combines three critical variables in one view.\n"
      ],
      "metadata": {
        "id": "V22bRsFWp1cl"
      }
    },
    {
      "cell_type": "markdown",
      "source": [
        "##### 2. What is/are the insight(s) found from the chart?"
      ],
      "metadata": {
        "id": "2cELzS2fp1cl"
      }
    },
    {
      "cell_type": "markdown",
      "source": [
        "#### 🔍 Insight(s) from the chart:\n",
        "- Most listings cluster between **100–365 availability days** and **$50–$200** in price.\n",
        "- **Entire homes** appear at higher price points, especially when available year-round.\n",
        "- Listings with more reviews (larger dots) tend to be **moderately priced and available year-round** — a sweet spot for engagement.\n",
        "\n"
      ],
      "metadata": {
        "id": "ozQPc2_Ip1cl"
      }
    },
    {
      "cell_type": "markdown",
      "source": [
        "##### 3. Will the gained insights help creating a positive business impact?\n",
        "Are there any insights that lead to negative growth? Justify with specific reason."
      ],
      "metadata": {
        "id": "3MPXvC8up1cl"
      }
    },
    {
      "cell_type": "markdown",
      "source": [
        "\n",
        "#### 💼 Business Impact:\n",
        "✅ **Positive**:\n",
        "- This chart helps Airbnb and hosts identify the **ideal balance** between price and availability.\n",
        "- High-review listings indicate successful hosting strategies that **could be replicated**.\n",
        "\n",
        "⚠️ **Negative Impact**:\n",
        "- Listings priced high with low availability may underperform.\n",
        "- Some low-priced but rarely available listings may be **inactive or used seasonally**, affecting booking consistency.\n",
        "\n"
      ],
      "metadata": {
        "id": "GL8l1tdLp1cl"
      }
    },
    {
      "cell_type": "markdown",
      "source": [
        "#### Chart - 14 - Correlation Heatmap"
      ],
      "metadata": {
        "id": "NC_X3p0fY2L0"
      }
    },
    {
      "cell_type": "code",
      "source": [
        "# Correlation Heatmap visualization code\n",
        "# Chart 14: Correlation Heatmap\n",
        "\n",
        "plt.figure(figsize=(10, 6))\n",
        "numerical_cols = ['price', 'minimum_nights', 'number_of_reviews', 'reviews_per_month', 'calculated_host_listings_count', 'availability_365']\n",
        "corr_matrix = df[numerical_cols].corr()\n",
        "\n",
        "sns.heatmap(corr_matrix, annot=True, cmap='coolwarm', linewidths=0.5)\n",
        "plt.title(\"Correlation Heatmap of Numerical Variables\")\n",
        "plt.xticks(rotation=45)\n",
        "plt.yticks(rotation=0)\n",
        "plt.tight_layout()\n",
        "plt.show()\n"
      ],
      "metadata": {
        "id": "xyC9zolEZNRQ"
      },
      "execution_count": null,
      "outputs": []
    },
    {
      "cell_type": "markdown",
      "source": [
        "##### 1. Why did you pick the specific chart?"
      ],
      "metadata": {
        "id": "UV0SzAkaZNRQ"
      }
    },
    {
      "cell_type": "markdown",
      "source": [
        "A **correlation heatmap** quickly shows **linear relationships** between numerical variables. It’s helpful to identify which variables might impact each other — useful for business logic and modeling.\n"
      ],
      "metadata": {
        "id": "DVPuT8LYZNRQ"
      }
    },
    {
      "cell_type": "markdown",
      "source": [
        "##### 2. What is/are the insight(s) found from the chart?"
      ],
      "metadata": {
        "id": "YPEH6qLeZNRQ"
      }
    },
    {
      "cell_type": "markdown",
      "source": [
        "#### 🔍 Insight(s) from the chart:\n",
        "- **`reviews_per_month` and `number_of_reviews`** have a **strong positive correlation**, which makes sense — more total reviews usually means more monthly activity.\n",
        "- **`price` is weakly correlated** with other variables, showing that price alone doesn’t determine review count or availability.\n",
        "- **`minimum_nights`** has almost **no strong correlation** with any other variable.\n",
        "\n",
        "#### 💼 Business Impact:\n",
        "✅ **Positive**:\n",
        "- Helps identify potential predictors if Airbnb wanted to build a **recommendation or pricing model**.\n",
        "- Confirms that **review activity is a solid metric for listing engagement**.\n",
        "\n",
        "⚠️ **Negative Impact**:\n",
        "- Weak correlation between price and most other variables means **pricing must consider multiple non-numerical factors** like location, room type, photos, etc.\n",
        "\n"
      ],
      "metadata": {
        "id": "bfSqtnDqZNRR"
      }
    },
    {
      "cell_type": "markdown",
      "source": [
        "#### Chart - 15 - Pair Plot"
      ],
      "metadata": {
        "id": "q29F0dvdveiT"
      }
    },
    {
      "cell_type": "code",
      "source": [
        "# Pair Plot visualization code\n",
        "# Chart 15: Pair Plot of Numerical Features Colored by Room Type\n",
        "\n",
        "import seaborn as sns\n",
        "import matplotlib.pyplot as plt\n",
        "\n",
        "# Selecting relevant numeric features\n",
        "selected_cols = ['price', 'minimum_nights', 'number_of_reviews', 'reviews_per_month', 'availability_365', 'room_type']\n",
        "\n",
        "# Create a filtered DataFrame (limit price to $500 to reduce outlier impact)\n",
        "df_pair = df[df['price'] <= 500][selected_cols]\n",
        "\n",
        "# Create pairplot\n",
        "sns.pairplot(df_pair, hue='room_type', diag_kind='kde', corner=True, plot_kws={'alpha': 0.5})\n",
        "plt.suptitle(\"Pair Plot of Numerical Variables Colored by Room Type\", y=1.02)\n",
        "plt.show()\n"
      ],
      "metadata": {
        "id": "o58-TEIhveiU"
      },
      "execution_count": null,
      "outputs": []
    },
    {
      "cell_type": "markdown",
      "source": [
        "##### 1. Why did you pick the specific chart?"
      ],
      "metadata": {
        "id": "EXh0U9oCveiU"
      }
    },
    {
      "cell_type": "markdown",
      "source": [
        "A **pair plot** lets us explore **all numeric variable relationships in one go**, color-coded by `room_type`. It gives both **distribution (diagonal)** and **pairwise scatter plots**, showing clustering or patterns across room types.\n"
      ],
      "metadata": {
        "id": "eMmPjTByveiU"
      }
    },
    {
      "cell_type": "markdown",
      "source": [
        "##### 2. What is/are the insight(s) found from the chart?"
      ],
      "metadata": {
        "id": "22aHeOlLveiV"
      }
    },
    {
      "cell_type": "markdown",
      "source": [
        "#### 🔍 Insight(s) from the chart:\n",
        "- **Entire home/apt** listings generally occupy the **upper range** of `price` and `availability_365`.\n",
        "- **Private rooms** cluster in **lower price** and **mid-review** zones — showing affordability and engagement.\n",
        "- There’s a visible **positive trend** between `reviews_per_month` and `number_of_reviews`, across all room types.\n",
        "- **Minimum nights** has wide dispersion with no clear grouping — suggesting it's highly variable.\n",
        "\n",
        "#### 💼 Business Impact:\n",
        "✅ **Positive**:\n",
        "- Helps identify **natural groupings** of room types based on behavior.\n",
        "- Airbnb can segment listings better for **search ranking** or **dynamic pricing**.\n",
        "\n",
        "⚠️ **Negative Impact**:\n",
        "- Some variables (e.g. `minimum_nights`) don’t cluster well and may be less useful for segmentation models.\n",
        "- Pair plots can become hard to read with large datasets — filtering by price (e.g. ≤ $500) improves readability.\n",
        "\n",
        "\n"
      ],
      "metadata": {
        "id": "uPQ8RGwHveiV"
      }
    },
    {
      "cell_type": "markdown",
      "source": [
        "## **5. Solution to Business Objective**"
      ],
      "metadata": {
        "id": "JcMwzZxoAimU"
      }
    },
    {
      "cell_type": "markdown",
      "source": [
        "#### What do you suggest the client to achieve Business Objective ?\n",
        "Explain Briefly."
      ],
      "metadata": {
        "id": "8G2x9gOozGDZ"
      }
    },
    {
      "cell_type": "markdown",
      "source": [
        "To achieve the objective of improving booking rates, guest satisfaction, and revenue on the Airbnb NYC platform, the client (Airbnb or individual hosts) should focus on the following actionable strategies derived from the EDA:\n",
        "\n",
        "✅ 1. Focus on Popular Room Types & Locations\n",
        "Entire homes in Manhattan and Brooklyn are in high demand but priced high.\n",
        "\n",
        "Private rooms, especially in Brooklyn and Queens, receive higher monthly reviews — showing strong budget traveler engagement.\n",
        "\n",
        "➤ Strategy: Promote or subsidize private room listings in high-demand neighborhoods to attract more short-stay guests.\n",
        "\n",
        "✅ 2. Optimize Pricing Using Market Benchmarks\n",
        "Listings priced between $50–$150 get the most bookings and reviews.\n",
        "\n",
        "Listings with extremely high prices or long minimum stays tend to underperform.\n",
        "\n",
        "➤ Strategy: Use dynamic pricing tools to keep listings within the high-conversion range, especially for new or underperforming hosts.\n",
        "\n",
        "✅ 3. Improve Listing Availability & Visibility\n",
        "Listings available year-round (365 days) tend to receive more reviews and bookings.\n",
        "\n",
        "Many listings have 0-day availability, which should be cleaned or flagged.\n",
        "\n",
        "➤ Strategy: Encourage consistent listing availability and remove inactive listings to enhance platform quality.\n",
        "\n",
        "✅ 4. Boost Guest Trust & Engagement\n",
        "Listings with high reviews per month are more trusted and frequently booked.\n",
        "\n",
        "➤ Strategy: Promote listings with strong recent activity and encourage hosts to respond quickly and maintain quality standards.\n",
        "\n",
        "✅ 5. Refine Search and Recommendation Systems\n",
        "Use multivariate trends (price + location + availability + review activity) to improve:\n",
        "\n",
        "Personalized search results\n",
        "\n",
        "Automated recommendations\n",
        "\n",
        "➤ Strategy: Incorporate this EDA into Airbnb’s ML algorithms to surface high-quality listings based on user preferences and booking trends."
      ],
      "metadata": {
        "id": "pASKb0qOza21"
      }
    },
    {
      "cell_type": "markdown",
      "source": [
        "# **Conclusion**"
      ],
      "metadata": {
        "id": "gCX9965dhzqZ"
      }
    },
    {
      "cell_type": "markdown",
      "source": [
        "## ✅ Conclusion\n",
        "\n",
        "This Exploratory Data Analysis of the Airbnb NYC 2019 dataset provided deep insights into pricing, availability, listing types, guest engagement, and geographical patterns using the UBM (Univariate, Bivariate, Multivariate) approach.\n",
        "\n",
        "---\n",
        "\n",
        "### 🔍 Key Takeaways:\n",
        "- **Manhattan and Brooklyn** are the most active boroughs in terms of listings and guest engagement.\n",
        "- **Entire home/apt** listings dominate the platform but **private rooms** attract the most reviews per month, indicating high turnover and affordability.\n",
        "- Listings priced between **$50–$150** with **short minimum stays** and **year-round availability** perform best.\n",
        "- **Outliers** in pricing and minimum nights exist and may reduce booking probability if not optimized.\n",
        "- Most variables like `price`, `availability`, and `reviews` have weak linear correlations, showing that **non-linear or categorical patterns** drive performance.\n",
        "\n",
        "---\n",
        "\n",
        "### 💡 Final Recommendation:\n",
        "To improve business performance, Airbnb should focus on **pricing intelligence**, **host availability**, **review management**, and **hyperlocal room-type strategies**. Data-backed decision-making can enhance guest satisfaction, host earnings, and platform efficiency.\n",
        "\n"
      ],
      "metadata": {
        "id": "Fjb1IsQkh3yE"
      }
    }
  ]
}